{
 "cells": [
  {
   "cell_type": "code",
   "execution_count": 1,
   "id": "b97d3e90-78d4-45c2-9ac0-77fb7afb67dd",
   "metadata": {},
   "outputs": [],
   "source": [
    "#!pip3 install pandas\n",
    "#!pip3 install PyArrow\n",
    "from pyspark.sql.functions import col"
   ]
  },
  {
   "cell_type": "code",
   "execution_count": 2,
   "id": "dc05b817-b158-4e24-be1b-eff1fc97932a",
   "metadata": {},
   "outputs": [],
   "source": [
    "from pyspark.sql import SparkSession\n",
    "from pyspark.sql import functions as F\n",
    "from pyspark.sql.types import TimestampType"
   ]
  },
  {
   "cell_type": "code",
   "execution_count": 3,
   "id": "9742f40b-e5e5-40e8-8f62-692a985e953c",
   "metadata": {},
   "outputs": [],
   "source": [
    "import os\n",
    "import time\n",
    "import json\n",
    "import requests\n",
    "import xml.etree.ElementTree as ET\n",
    "import datetime\n",
    "import subprocess"
   ]
  },
  {
   "cell_type": "code",
   "execution_count": 4,
   "id": "fe2eab2d-04db-43bd-9ccc-f9a6f6ff2d47",
   "metadata": {},
   "outputs": [],
   "source": [
    "if os.path.exists(\"/etc/hadoop/conf/hive-site.xml\"):\n",
    "    tree = ET.parse(\"/etc/hadoop/conf/hive-site.xml\")\n",
    "    root = tree.getroot()\n",
    "    for prop in root.findall(\"property\"):\n",
    "        if prop.find(\"name\").text == \"hive.metastore.warehouse.dir\":\n",
    "            storage = (\n",
    "                prop.find(\"value\").text.split(\"/\")[0]\n",
    "                + \"//\"\n",
    "                + prop.find(\"value\").text.split(\"/\")[2]\n",
    "            )"
   ]
  },
  {
   "cell_type": "code",
   "execution_count": 5,
   "id": "362747fd-6e30-43c6-948a-94e3751f1b6e",
   "metadata": {},
   "outputs": [],
   "source": [
    "os.environ[\"STORAGE\"] = storage"
   ]
  },
  {
   "cell_type": "code",
   "execution_count": 6,
   "id": "edbe32b7-5801-47b0-8f3b-a81aa6fb8fc7",
   "metadata": {},
   "outputs": [
    {
     "name": "stdout",
     "output_type": "stream",
     "text": [
      "s3a://go01-demo\n"
     ]
    }
   ],
   "source": [
    "print(storage)"
   ]
  },
  {
   "cell_type": "code",
   "execution_count": 7,
   "id": "64146b81-faaa-43ea-93a0-ce58cb23c4f5",
   "metadata": {},
   "outputs": [
    {
     "name": "stderr",
     "output_type": "stream",
     "text": [
      "Setting spark.hadoop.yarn.resourcemanager.principal to pauldefusco\n"
     ]
    }
   ],
   "source": [
    "spark = SparkSession\\\n",
    "    .builder\\\n",
    "    .appName(\"PythonSQL\")\\\n",
    "    .config(\"spark.hadoop.fs.s3a.s3guard.ddb.region\",\"us-east-2\")\\\n",
    "    .config(\"spark.yarn.access.hadoopFileSystems\",os.environ[\"STORAGE\"])\\\n",
    "    .config(\"spark.rpc.message.maxSize\", \"1024\")\\\n",
    "    .config(\"spark.dynamicAllocation.enabled\", \"true\")\\\n",
    "    .getOrCreate()\n",
    " #   .config(\"spark.driver.cores\", 4)\\\n",
    " #   .config(\"spark.driver.memory\", \"8g\")\\\n",
    "    "
   ]
  },
  {
   "cell_type": "code",
   "execution_count": 8,
   "id": "de006039-1f0d-4d60-86b2-f1eab7d4d66f",
   "metadata": {},
   "outputs": [
    {
     "name": "stderr",
     "output_type": "stream",
     "text": [
      "                                                                                \r"
     ]
    }
   ],
   "source": [
    "customers_df = spark.read.csv(os.environ[\"STORAGE\"]+'/cde-workshop/clickthrough/customers/data', header=True)"
   ]
  },
  {
   "cell_type": "code",
   "execution_count": 9,
   "id": "12bcff34-f662-497b-b1f2-98367dd5259f",
   "metadata": {},
   "outputs": [],
   "source": [
    "#customers_df.select(\"customer_id\").show()"
   ]
  },
  {
   "cell_type": "code",
   "execution_count": 10,
   "id": "f6176b8f-3cf3-4a07-b621-0c9561d1fad6",
   "metadata": {},
   "outputs": [
    {
     "name": "stdout",
     "output_type": "stream",
     "text": [
      "Requirement already satisfied: faker in ./.local/lib/python3.7/site-packages (15.1.1)\n",
      "Requirement already satisfied: python-dateutil>=2.4 in /runtime-addons/cmladdon-python-2.0.32-b123/opt/cmladdons/python/site-packages (from faker) (2.8.2)\n",
      "Requirement already satisfied: typing-extensions>=3.10.0.1 in /runtime-addons/cmladdon-python-2.0.32-b123/opt/cmladdons/python/site-packages (from faker) (4.1.1)\n",
      "Requirement already satisfied: six>=1.5 in /runtime-addons/cmladdon-python-2.0.32-b123/opt/cmladdons/python/site-packages (from python-dateutil>=2.4->faker) (1.16.0)\n"
     ]
    }
   ],
   "source": [
    "!pip3 install faker"
   ]
  },
  {
   "cell_type": "code",
   "execution_count": 11,
   "id": "0a04c92f-410b-469e-a765-b3f961045e54",
   "metadata": {},
   "outputs": [
    {
     "data": {
      "text/plain": [
       "[('customer_id', 'string'),\n",
       " ('username', 'string'),\n",
       " ('name', 'string'),\n",
       " ('gender', 'string'),\n",
       " ('email', 'string'),\n",
       " ('occupation', 'string'),\n",
       " ('birthdate', 'string'),\n",
       " ('address', 'string'),\n",
       " ('device_id', 'string')]"
      ]
     },
     "execution_count": 11,
     "metadata": {},
     "output_type": "execute_result"
    }
   ],
   "source": [
    "customers_df.dtypes"
   ]
  },
  {
   "cell_type": "code",
   "execution_count": 12,
   "id": "1a43fe9c-637d-470d-b655-f39e4ba8af6c",
   "metadata": {},
   "outputs": [
    {
     "name": "stderr",
     "output_type": "stream",
     "text": [
      "                                                                                \r"
     ]
    }
   ],
   "source": [
    "max_current_cust_id = int(customers_df.select(F.max(\"customer_id\")).collect()[0]['max(customer_id)'])"
   ]
  },
  {
   "cell_type": "code",
   "execution_count": 13,
   "id": "9cf197be-18ee-48ba-b908-91ceac9ecbc8",
   "metadata": {},
   "outputs": [],
   "source": [
    "from pyspark.sql.functions import udf\n",
    "from pyspark.sql.types import StringType"
   ]
  },
  {
   "cell_type": "code",
   "execution_count": 14,
   "id": "047fb6fd-0833-4da9-9beb-ad7a870bedd4",
   "metadata": {},
   "outputs": [],
   "source": [
    "from faker import Faker\n",
    "fake = Faker(seed=3)"
   ]
  },
  {
   "cell_type": "code",
   "execution_count": 15,
   "id": "351313b8-0e46-45ae-9109-3308894e5679",
   "metadata": {},
   "outputs": [
    {
     "name": "stdout",
     "output_type": "stream",
     "text": [
      "Requirement already satisfied: pandas in ./.local/lib/python3.7/site-packages (1.3.5)\n",
      "Requirement already satisfied: numpy>=1.17.3 in /usr/local/lib/python3.7/site-packages (from pandas) (1.19.4)\n",
      "Requirement already satisfied: python-dateutil>=2.7.3 in /runtime-addons/cmladdon-python-2.0.32-b123/opt/cmladdons/python/site-packages (from pandas) (2.8.2)\n",
      "Requirement already satisfied: pytz>=2017.3 in /runtime-addons/cmladdon-python-2.0.32-b123/opt/cmladdons/python/site-packages (from pandas) (2022.4)\n",
      "Requirement already satisfied: six>=1.5 in /runtime-addons/cmladdon-python-2.0.32-b123/opt/cmladdons/python/site-packages (from python-dateutil>=2.7.3->pandas) (1.16.0)\n"
     ]
    }
   ],
   "source": [
    "!pip3 install pandas\n",
    "import pandas as pd"
   ]
  },
  {
   "cell_type": "code",
   "execution_count": 16,
   "id": "5d1665af-05cb-4126-a37f-6fdbd3f79d8b",
   "metadata": {},
   "outputs": [],
   "source": [
    "import random\n",
    "import numpy as np"
   ]
  },
  {
   "cell_type": "code",
   "execution_count": 19,
   "id": "fcc7ad38-e975-40c9-b52e-7f17910cdd16",
   "metadata": {},
   "outputs": [],
   "source": [
    "#don't run again"
   ]
  },
  {
   "cell_type": "code",
   "execution_count": 37,
   "id": "e20a1bf1-c5fa-4041-833e-a1e45b641078",
   "metadata": {},
   "outputs": [
    {
     "name": "stderr",
     "output_type": "stream",
     "text": [
      "                                                                                \r"
     ]
    }
   ],
   "source": [
    "#ct_hist_df = spark.read.option(\"header\",\"true\").parquet(\"s3a://go01-demo/cde-workshop/clickthrough/historical\")"
   ]
  },
  {
   "cell_type": "code",
   "execution_count": 86,
   "id": "004f2271-7c03-4455-bae6-794565b9c6ca",
   "metadata": {},
   "outputs": [
    {
     "name": "stderr",
     "output_type": "stream",
     "text": [
      "                                                                                \r"
     ]
    }
   ],
   "source": [
    "#hist_ded_ids = ct_hist_df.select(\"device_id\").sample(.01).toPandas()"
   ]
  },
  {
   "cell_type": "code",
   "execution_count": 87,
   "id": "3ba4dc52-828d-4e24-8b78-d243e29c213a",
   "metadata": {},
   "outputs": [],
   "source": [
    "#unique_arr = np.unique(hist_ded_ids.device_id)"
   ]
  },
  {
   "cell_type": "code",
   "execution_count": 88,
   "id": "fd01dd54-2522-4c65-a0a9-06aecf0a2878",
   "metadata": {},
   "outputs": [
    {
     "data": {
      "text/plain": [
       "array(['000032d7', '000070cc', '00038618', ..., 'ffff60f9', 'ffff9249',\n",
       "       'ffffe321'], dtype=object)"
      ]
     },
     "execution_count": 88,
     "metadata": {},
     "output_type": "execute_result"
    }
   ],
   "source": [
    "#unique_arr"
   ]
  },
  {
   "cell_type": "code",
   "execution_count": 90,
   "id": "ec662aca-0db8-4f68-ab3e-6b6fdb648533",
   "metadata": {},
   "outputs": [
    {
     "data": {
      "text/plain": [
       "10000"
      ]
     },
     "execution_count": 90,
     "metadata": {},
     "output_type": "execute_result"
    }
   ],
   "source": [
    "#hist_ded_ids = unique_arr[0:10000]\n",
    "#len(hist_ded_ids)"
   ]
  },
  {
   "cell_type": "code",
   "execution_count": 32,
   "id": "f2db616f-9e6d-45b4-9066-54c41428dfa0",
   "metadata": {},
   "outputs": [],
   "source": [
    "#customers_pd_df = customers_df.toPandas()"
   ]
  },
  {
   "cell_type": "code",
   "execution_count": 46,
   "id": "d76e0adf-fe29-4674-90e2-2a78faac3e95",
   "metadata": {},
   "outputs": [
    {
     "data": {
      "text/plain": [
       "device_id    10000\n",
       "dtype: int64"
      ]
     },
     "execution_count": 46,
     "metadata": {},
     "output_type": "execute_result"
    }
   ],
   "source": [
    "#hist_ded_ids.count()"
   ]
  },
  {
   "cell_type": "code",
   "execution_count": 95,
   "id": "c50cd89f-db56-4e48-9ead-0899b6a5976b",
   "metadata": {},
   "outputs": [],
   "source": [
    "#customers_pd_df = customers_pd_df.drop([\"devide_id\"])\n",
    "#customers_pd_df[\"device_id\"] = hist_ded_ids"
   ]
  },
  {
   "cell_type": "code",
   "execution_count": 98,
   "id": "47f08182-0cc7-4441-919f-a6a134d9cd21",
   "metadata": {},
   "outputs": [],
   "source": [
    "#customers_pd_df = customers_pd_df.drop(\"devide_id\", axis=1)"
   ]
  },
  {
   "cell_type": "code",
   "execution_count": 100,
   "id": "83830dce-d219-4ea3-b5d6-7171c19b0002",
   "metadata": {},
   "outputs": [],
   "source": [
    "#final_spark_df_customers = spark.createDataFrame(customers_pd_df)"
   ]
  },
  {
   "cell_type": "code",
   "execution_count": 101,
   "id": "23d14a30-37dc-486a-83a5-46338c136a55",
   "metadata": {},
   "outputs": [
    {
     "name": "stderr",
     "output_type": "stream",
     "text": [
      "                                                                                \r"
     ]
    }
   ],
   "source": [
    "#final_spark_df_customers.write.mode(\"overwrite\").csv(os.environ[\"STORAGE\"]+'/cde-workshop/clickthrough/customers/data', header=True)"
   ]
  },
  {
   "cell_type": "code",
   "execution_count": 102,
   "id": "2fce4a16-9099-47ee-a1a6-21448a9950e3",
   "metadata": {},
   "outputs": [
    {
     "name": "stderr",
     "output_type": "stream",
     "text": [
      "                                                                                \r"
     ]
    }
   ],
   "source": [
    "#verify_df = spark.read.csv(os.environ[\"STORAGE\"]+'/cde-workshop/clickthrough/customers/data', header=True)"
   ]
  },
  {
   "cell_type": "code",
   "execution_count": 103,
   "id": "b9904396-42e6-470a-951c-b5cd98f793c4",
   "metadata": {},
   "outputs": [
    {
     "name": "stdout",
     "output_type": "stream",
     "text": [
      "+-----------+--------------+--------------------+------+--------------------+--------------------+----------+--------------------+---------+\n",
      "|customer_id|      username|                name|gender|               email|          occupation| birthdate|             address|device_id|\n",
      "+-----------+--------------+--------------------+------+--------------------+--------------------+----------+--------------------+---------+\n",
      "|          1|       robin48|       Jesse Spencer|     M|   udalton@yahoo.com|Pharmacist, commu...|1975-09-24|10305 Scott River...| 000032d7|\n",
      "|          2|cynthiajackson|     Savannah Daniel|     F|walkerchristopher...|        Set designer|1934-09-28|70884 Andrew Plaz...| 000070cc|\n",
      "|          3|       ydurham|     Alexander Davis|     M|annlindsey@yahoo.com|Plant breeder/gen...|1975-11-09|0365 Carrie Point...| 00038618|\n",
      "|          4| murphymichael|      Patrick Cortez|     M| freeves@hotmail.com|Scientist, audiol...|1911-01-20|9864 Brian Walk S...| 000727b1|\n",
      "|          5|    brittany85|      Robert Ballard|     M|donald73@hotmail.com|    Industrial buyer|2010-08-12|PSC 2637, Box 266...| 000828f7|\n",
      "|          6|       kevin51|    Gary Watkins DDS|     M|     jay41@gmail.com|Air traffic contr...|1941-03-29|2983 Stewart Cres...| 0008e3ee|\n",
      "|          7|thomasanderson|  Elizabeth Harrison|     F|  cwalsh@hotmail.com|Pharmacist, commu...|1926-03-31|369 Jillian Circl...| 0009e271|\n",
      "|          8|         fcole|        Thomas Simon|     M|wyattshannon@hotm...|            Animator|1941-09-11|36165 Amanda Cres...| 000b6e10|\n",
      "|          9|      wbennett|       Thomas Rivers|     M|    ggates@yahoo.com|Scientist, audiol...|1936-07-20|8254 Jennifer Poi...| 00102b65|\n",
      "|         10|    danielkent|        Mariah Rojas|     F|  dawnruiz@gmail.com|Exhibitions offic...|1957-02-20|189 Bryan Mountai...| 00171260|\n",
      "|         11|  joneskristin|       Dale Williams|     M|      ulee@yahoo.com|            Best boy|1924-11-27|79823 Jonathan Ov...| 0019f7d0|\n",
      "|         12|        sbrown|Mrs. Shelley Lambert|     F|  todddunn@gmail.com|Commercial/reside...|1969-03-20|88079 Brian WallM...| 001ac871|\n",
      "|         13|     michael81|    Melissa Castillo|     F|michaeldavila@gma...|Journalist, broad...|1930-02-12|94427 Rachel KeyH...| 001dd02b|\n",
      "|         14| lambchristian|         Lisa Kelley|     F|rebeccasmith@hotm...|Consulting civil ...|2003-04-29|617 Pena PointJen...| 001fa78e|\n",
      "|         15|        ssmith|       Willie Medina|     M|  cjenkins@yahoo.com|Higher education ...|1922-10-20|PSC 4133, Box 951...| 0024ee8d|\n",
      "|         16|       jason58|     Benjamin Torres|     M|schmidtsue@yahoo.com|        Risk analyst|1993-07-19|2404 Roger Club A...| 00262b95|\n",
      "|         17|      kjohnson|          Mark Davis|     M|connerwilliam@yah...| Associate Professor|1938-10-31|68487 Villegas Ma...| 00268f31|\n",
      "|         18|   walkersarah|    Christina Ingram|     F|craigfaulkner@hot...|Magazine features...|1918-05-28|10893 Prince Fore...| 0026921d|\n",
      "|         19|    brittany79|         Kiara Smith|     F|victoria46@yahoo.com|         Ship broker|2013-06-10|47282 Christina C...| 00286fb0|\n",
      "|         20|     smithkurt|        Richard Kent|     M|  thomas83@yahoo.com|Geographical info...|2004-10-09|USS FordFPO AA 15552| 0028f49f|\n",
      "+-----------+--------------+--------------------+------+--------------------+--------------------+----------+--------------------+---------+\n",
      "only showing top 20 rows\n",
      "\n"
     ]
    }
   ],
   "source": [
    "#verify_df.show()"
   ]
  },
  {
   "cell_type": "code",
   "execution_count": 104,
   "id": "723dc987-a3a3-419b-8928-a76be0f5f2a3",
   "metadata": {},
   "outputs": [
    {
     "name": "stderr",
     "output_type": "stream",
     "text": [
      "                                                                                \r"
     ]
    }
   ],
   "source": [
    "#hist_ded_ids = ct_hist_df.select(\"device_id\").sample(.01).toPandas()"
   ]
  },
  {
   "cell_type": "code",
   "execution_count": 105,
   "id": "c7c3179e-da9b-4400-b5fa-71830e79cced",
   "metadata": {},
   "outputs": [],
   "source": [
    "#unique_arr2 = np.unique(hist_ded_ids.device_id)"
   ]
  },
  {
   "cell_type": "code",
   "execution_count": 107,
   "id": "77105651-e660-46b2-8ae6-98a4fa0f212f",
   "metadata": {},
   "outputs": [],
   "source": [
    "#sample_device_ids = [i for i in unique_arr2 if i not in unique_arr]"
   ]
  },
  {
   "cell_type": "code",
   "execution_count": 108,
   "id": "dd457d9d-a5ba-46df-b88a-d8b374c8e1d3",
   "metadata": {},
   "outputs": [
    {
     "data": {
      "text/plain": [
       "29261"
      ]
     },
     "execution_count": 108,
     "metadata": {},
     "output_type": "execute_result"
    }
   ],
   "source": [
    "#len(sample_device_ids)"
   ]
  },
  {
   "cell_type": "code",
   "execution_count": 113,
   "id": "1f856a8c-b89e-4239-989c-7d7184f982fe",
   "metadata": {},
   "outputs": [],
   "source": [
    "#array_df = pd.DataFrame(sample_device_ids, columns=['device_id'])\n",
    "#device_id_spark_df = spark.createDataFrame(array_df)"
   ]
  },
  {
   "cell_type": "code",
   "execution_count": 114,
   "id": "83eca045-2fd8-432c-9ecf-d8a356ab69a0",
   "metadata": {},
   "outputs": [
    {
     "name": "stderr",
     "output_type": "stream",
     "text": [
      "                                                                                \r"
     ]
    }
   ],
   "source": [
    "#device_id_spark_df.write.csv(os.environ[\"STORAGE\"]+'/cde-workshop/clickthrough/customers/data/device_ids', header=True)"
   ]
  },
  {
   "cell_type": "code",
   "execution_count": 20,
   "id": "0fc319be-848b-463e-bba6-7ec337f1181b",
   "metadata": {},
   "outputs": [],
   "source": [
    "def make_batch_df(max_current_cust_id):\n",
    "    \n",
    "    batch_size = random.randint(100, 1000)\n",
    "    appends = []\n",
    "    \n",
    "    for i in range(batch_size):\n",
    "        appends.append(fake.profile())\n",
    "        \n",
    "    appends_df = pd.DataFrame(appends)[[\"username\", \"name\", \"sex\", \"mail\", \"job\", \"birthdate\", \"address\"]]\n",
    "    appends_df['customer_id'] = list(range(max_current_cust_id, max_current_cust_id+batch_size))\n",
    "    \n",
    "    appends_df.rename({'sex': 'gender', 'job': 'position', 'mail':'email'}, axis=1)\n",
    "    \n",
    "    return appends_df"
   ]
  },
  {
   "cell_type": "code",
   "execution_count": 21,
   "id": "1ab9a9f7-c049-442c-b5d2-ebe3e0e68c7a",
   "metadata": {},
   "outputs": [],
   "source": [
    "new_batch_pd_df = make_batch_df(max_current_cust_id)\n",
    "new_batch_pd_df_count = new_batch_pd_df.count()"
   ]
  },
  {
   "cell_type": "code",
   "execution_count": 22,
   "id": "309894de-c4df-453d-82be-4559f2c56461",
   "metadata": {},
   "outputs": [],
   "source": [
    "new_batch_spark_df = spark.createDataFrame(new_batch_pd_df)"
   ]
  },
  {
   "cell_type": "code",
   "execution_count": 23,
   "id": "93ee6694-0bc6-4cfc-8102-b633bedbfa9d",
   "metadata": {},
   "outputs": [],
   "source": [
    "new_batch_len = new_batch_pd_df_count[0].item()"
   ]
  },
  {
   "cell_type": "code",
   "execution_count": 24,
   "id": "00d79982-1554-4e46-8ecc-7ec09922132f",
   "metadata": {},
   "outputs": [
    {
     "name": "stderr",
     "output_type": "stream",
     "text": [
      "                                                                                \r"
     ]
    }
   ],
   "source": [
    "in_device_id_spark_df = spark.read.csv(os.environ[\"STORAGE\"]+'/cde-workshop/clickthrough/customers/data/device_ids', header=True)"
   ]
  },
  {
   "cell_type": "code",
   "execution_count": 25,
   "id": "551ef2ea-838a-4724-a8cd-0eb9ed4f73a8",
   "metadata": {},
   "outputs": [],
   "source": [
    "in_device_slice = in_device_id_spark_df.limit(new_batch_len)"
   ]
  },
  {
   "cell_type": "code",
   "execution_count": 26,
   "id": "b976d9ce-029e-4d13-8873-ba1a35f2bf80",
   "metadata": {},
   "outputs": [],
   "source": [
    "from pyspark.sql.functions import monotonically_increasing_id"
   ]
  },
  {
   "cell_type": "code",
   "execution_count": 27,
   "id": "8e4da47c-9475-436d-84b9-45bbb588eb58",
   "metadata": {},
   "outputs": [],
   "source": [
    "in_device_slice = in_device_slice.withColumn(\"mono_id\",monotonically_increasing_id() )"
   ]
  },
  {
   "cell_type": "code",
   "execution_count": 28,
   "id": "47d54ec5-2e4c-42b9-b29b-daa9fce62c3e",
   "metadata": {},
   "outputs": [],
   "source": [
    "new_batch_spark_df = new_batch_spark_df.withColumn(\"mono_id\",monotonically_increasing_id() )"
   ]
  },
  {
   "cell_type": "code",
   "execution_count": 29,
   "id": "eff37a50-6695-40d9-8fe8-7bf699793a24",
   "metadata": {},
   "outputs": [],
   "source": [
    "new_batch_spark_append_df = new_batch_spark_df.join(in_device_slice, 'mono_id').drop('mono_id')"
   ]
  },
  {
   "cell_type": "code",
   "execution_count": 30,
   "id": "f28d0e5e-9952-49de-83d2-e863611d7b67",
   "metadata": {},
   "outputs": [
    {
     "data": {
      "text/plain": [
       "[('username', 'string'),\n",
       " ('name', 'string'),\n",
       " ('sex', 'string'),\n",
       " ('mail', 'string'),\n",
       " ('job', 'string'),\n",
       " ('birthdate', 'date'),\n",
       " ('address', 'string'),\n",
       " ('customer_id', 'bigint'),\n",
       " ('device_id', 'string')]"
      ]
     },
     "execution_count": 30,
     "metadata": {},
     "output_type": "execute_result"
    }
   ],
   "source": [
    "new_batch_spark_append_df.dtypes"
   ]
  },
  {
   "cell_type": "code",
   "execution_count": 31,
   "id": "30ddce7e-32e6-4e03-a7fb-eff9f2075fd4",
   "metadata": {},
   "outputs": [
    {
     "data": {
      "text/plain": [
       "[('customer_id', 'string'),\n",
       " ('username', 'string'),\n",
       " ('name', 'string'),\n",
       " ('gender', 'string'),\n",
       " ('email', 'string'),\n",
       " ('occupation', 'string'),\n",
       " ('birthdate', 'string'),\n",
       " ('address', 'string'),\n",
       " ('device_id', 'string')]"
      ]
     },
     "execution_count": 31,
     "metadata": {},
     "output_type": "execute_result"
    }
   ],
   "source": [
    "customers_df.dtypes"
   ]
  },
  {
   "cell_type": "code",
   "execution_count": 38,
   "id": "739b1020-b7d1-46ad-a607-d3a477d0a182",
   "metadata": {},
   "outputs": [
    {
     "name": "stderr",
     "output_type": "stream",
     "text": [
      "[Stage 5:>                                                          (0 + 1) / 1]"
     ]
    },
    {
     "name": "stdout",
     "output_type": "stream",
     "text": [
      "+-----------+--------------+--------------------+------+--------------------+--------------------+----------+--------------------+---------+\n",
      "|customer_id|      username|                name|gender|               email|          occupation| birthdate|             address|device_id|\n",
      "+-----------+--------------+--------------------+------+--------------------+--------------------+----------+--------------------+---------+\n",
      "|          1|       robin48|       Jesse Spencer|     M|   udalton@yahoo.com|Pharmacist, commu...|1975-09-24|10305 Scott River...| 000032d7|\n",
      "|          2|cynthiajackson|     Savannah Daniel|     F|walkerchristopher...|        Set designer|1934-09-28|70884 Andrew Plaz...| 000070cc|\n",
      "|          3|       ydurham|     Alexander Davis|     M|annlindsey@yahoo.com|Plant breeder/gen...|1975-11-09|0365 Carrie Point...| 00038618|\n",
      "|          4| murphymichael|      Patrick Cortez|     M| freeves@hotmail.com|Scientist, audiol...|1911-01-20|9864 Brian Walk S...| 000727b1|\n",
      "|          5|    brittany85|      Robert Ballard|     M|donald73@hotmail.com|    Industrial buyer|2010-08-12|PSC 2637, Box 266...| 000828f7|\n",
      "|          6|       kevin51|    Gary Watkins DDS|     M|     jay41@gmail.com|Air traffic contr...|1941-03-29|2983 Stewart Cres...| 0008e3ee|\n",
      "|          7|thomasanderson|  Elizabeth Harrison|     F|  cwalsh@hotmail.com|Pharmacist, commu...|1926-03-31|369 Jillian Circl...| 0009e271|\n",
      "|          8|         fcole|        Thomas Simon|     M|wyattshannon@hotm...|            Animator|1941-09-11|36165 Amanda Cres...| 000b6e10|\n",
      "|          9|      wbennett|       Thomas Rivers|     M|    ggates@yahoo.com|Scientist, audiol...|1936-07-20|8254 Jennifer Poi...| 00102b65|\n",
      "|         10|    danielkent|        Mariah Rojas|     F|  dawnruiz@gmail.com|Exhibitions offic...|1957-02-20|189 Bryan Mountai...| 00171260|\n",
      "|         11|  joneskristin|       Dale Williams|     M|      ulee@yahoo.com|            Best boy|1924-11-27|79823 Jonathan Ov...| 0019f7d0|\n",
      "|         12|        sbrown|Mrs. Shelley Lambert|     F|  todddunn@gmail.com|Commercial/reside...|1969-03-20|88079 Brian WallM...| 001ac871|\n",
      "|         13|     michael81|    Melissa Castillo|     F|michaeldavila@gma...|Journalist, broad...|1930-02-12|94427 Rachel KeyH...| 001dd02b|\n",
      "|         14| lambchristian|         Lisa Kelley|     F|rebeccasmith@hotm...|Consulting civil ...|2003-04-29|617 Pena PointJen...| 001fa78e|\n",
      "|         15|        ssmith|       Willie Medina|     M|  cjenkins@yahoo.com|Higher education ...|1922-10-20|PSC 4133, Box 951...| 0024ee8d|\n",
      "|         16|       jason58|     Benjamin Torres|     M|schmidtsue@yahoo.com|        Risk analyst|1993-07-19|2404 Roger Club A...| 00262b95|\n",
      "|         17|      kjohnson|          Mark Davis|     M|connerwilliam@yah...| Associate Professor|1938-10-31|68487 Villegas Ma...| 00268f31|\n",
      "|         18|   walkersarah|    Christina Ingram|     F|craigfaulkner@hot...|Magazine features...|1918-05-28|10893 Prince Fore...| 0026921d|\n",
      "|         19|    brittany79|         Kiara Smith|     F|victoria46@yahoo.com|         Ship broker|2013-06-10|47282 Christina C...| 00286fb0|\n",
      "|         20|     smithkurt|        Richard Kent|     M|  thomas83@yahoo.com|Geographical info...|2004-10-09|USS FordFPO AA 15552| 0028f49f|\n",
      "+-----------+--------------+--------------------+------+--------------------+--------------------+----------+--------------------+---------+\n",
      "only showing top 20 rows\n",
      "\n"
     ]
    },
    {
     "name": "stderr",
     "output_type": "stream",
     "text": [
      "                                                                                \r"
     ]
    }
   ],
   "source": [
    "customers_df.show()"
   ]
  },
  {
   "cell_type": "code",
   "execution_count": null,
   "id": "5fb9e017-b3c6-46f6-9b26-767e95127798",
   "metadata": {},
   "outputs": [],
   "source": [
    "new_batch_spark_append_df.write.format('parquet').mode(\"overwrite\").saveAsTable('default.newbatch')"
   ]
  },
  {
   "cell_type": "code",
   "execution_count": null,
   "id": "b89dba34-c29b-4e33-9806-b76f2c33ed4c",
   "metadata": {},
   "outputs": [],
   "source": []
  },
  {
   "cell_type": "code",
   "execution_count": 44,
   "id": "2b105b21-eeab-45fc-86ea-933cbde3e07b",
   "metadata": {},
   "outputs": [],
   "source": [
    "new_batch_spark_append_df.createOrReplaceTempView(\"newbatch\")"
   ]
  },
  {
   "cell_type": "code",
   "execution_count": 42,
   "id": "2ed23a2e-ddb0-4c8f-a2fb-5c2ff8bc09cf",
   "metadata": {},
   "outputs": [
    {
     "name": "stderr",
     "output_type": "stream",
     "text": [
      "                                                                                \r"
     ]
    }
   ],
   "source": [
    "customers_df.write.mode(\"overwrite\").saveAsTable('default.historical_customers')"
   ]
  },
  {
   "cell_type": "code",
   "execution_count": 45,
   "id": "e4ce3870-de4d-460f-8553-b82abc5267a7",
   "metadata": {},
   "outputs": [
    {
     "name": "stderr",
     "output_type": "stream",
     "text": [
      "[Stage 7:>                                                          (0 + 1) / 1]"
     ]
    },
    {
     "name": "stdout",
     "output_type": "stream",
     "text": [
      "+-----------+--------------+------------------+------+--------------------+--------------------+----------+--------------------+---------+\n",
      "|customer_id|      username|              name|gender|               email|          occupation| birthdate|             address|device_id|\n",
      "+-----------+--------------+------------------+------+--------------------+--------------------+----------+--------------------+---------+\n",
      "|          1|       robin48|     Jesse Spencer|     M|   udalton@yahoo.com|Pharmacist, commu...|1975-09-24|10305 Scott River...| 000032d7|\n",
      "|          2|cynthiajackson|   Savannah Daniel|     F|walkerchristopher...|        Set designer|1934-09-28|70884 Andrew Plaz...| 000070cc|\n",
      "|          3|       ydurham|   Alexander Davis|     M|annlindsey@yahoo.com|Plant breeder/gen...|1975-11-09|0365 Carrie Point...| 00038618|\n",
      "|          4| murphymichael|    Patrick Cortez|     M| freeves@hotmail.com|Scientist, audiol...|1911-01-20|9864 Brian Walk S...| 000727b1|\n",
      "|          5|    brittany85|    Robert Ballard|     M|donald73@hotmail.com|    Industrial buyer|2010-08-12|PSC 2637, Box 266...| 000828f7|\n",
      "|          6|       kevin51|  Gary Watkins DDS|     M|     jay41@gmail.com|Air traffic contr...|1941-03-29|2983 Stewart Cres...| 0008e3ee|\n",
      "|          7|thomasanderson|Elizabeth Harrison|     F|  cwalsh@hotmail.com|Pharmacist, commu...|1926-03-31|369 Jillian Circl...| 0009e271|\n",
      "|          8|         fcole|      Thomas Simon|     M|wyattshannon@hotm...|            Animator|1941-09-11|36165 Amanda Cres...| 000b6e10|\n",
      "|          9|      wbennett|     Thomas Rivers|     M|    ggates@yahoo.com|Scientist, audiol...|1936-07-20|8254 Jennifer Poi...| 00102b65|\n",
      "|         10|    danielkent|      Mariah Rojas|     F|  dawnruiz@gmail.com|Exhibitions offic...|1957-02-20|189 Bryan Mountai...| 00171260|\n",
      "+-----------+--------------+------------------+------+--------------------+--------------------+----------+--------------------+---------+\n",
      "\n"
     ]
    },
    {
     "name": "stderr",
     "output_type": "stream",
     "text": [
      "                                                                                \r"
     ]
    }
   ],
   "source": [
    "spark.sql(\"SELECT * FROM default.historical_customers LIMIT 10\").show()"
   ]
  },
  {
   "cell_type": "code",
   "execution_count": 47,
   "id": "66a2c276-7ec7-44cf-8e0b-1a3c977a9b62",
   "metadata": {},
   "outputs": [
    {
     "name": "stderr",
     "output_type": "stream",
     "text": [
      "                                                                                \r"
     ]
    },
    {
     "name": "stdout",
     "output_type": "stream",
     "text": [
      "+--------------+------------------+---+--------------------+--------------------+----------+--------------------+-----------+---------+\n",
      "|      username|              name|sex|                mail|                 job| birthdate|             address|customer_id|device_id|\n",
      "+--------------+------------------+---+--------------------+--------------------+----------+--------------------+-----------+---------+\n",
      "|       wwatson|    Tiffany Graham|  F|  smithamy@yahoo.com| Landscape architect|1979-08-26|507 Brown Row\n",
      "Sou...|       9999| 7e00e93d|\n",
      "|        noah24|Michael Montgomery|  M|tjennings@hotmail...| Administrator, arts|1967-03-28|967 Lori Plains S...|      10000| 7e01296d|\n",
      "|  sanderssusan| Ronald Barnes Jr.|  M|kellypatel@hotmai...|Producer, televis...|1936-03-26|789 Debra Plain\n",
      "N...|      10001| 7e033a05|\n",
      "|        wcantu|      Dawn Wilkins|  F|    jponce@gmail.com|       Advice worker|1928-08-30|Unit 3223 Box 646...|      10002| 7e04addc|\n",
      "|   kylejackson|       Ian Shaffer|  M|  dale18@hotmail.com|      Retail manager|2020-10-24|0678 Choi Coves S...|      10003| 7e062ffd|\n",
      "|  collinsdavid|     Angela Morgan|  F|isaacwest@hotmail...|      Energy manager|1994-04-11|301 Pittman Villa...|      10004| 7e08abe8|\n",
      "|       fknight|    Richard Wilson|  M|deborah45@hotmail...|                Land|1920-03-04|43750 Ryan Island...|      10005| 7e08c2ea|\n",
      "|rasmussendavid|   Caroline Martin|  F|alyssawashington@...|        Psychiatrist|1913-07-09|499 Paula Tunnel\n",
      "...|      10006| 7e0a3a5c|\n",
      "|    dillonadam|  Patricia Vazquez|  F|   zfoster@yahoo.com|Engineer, automotive|1935-01-26|5285 Smith Forest...|      10007| 7e0b0a1d|\n",
      "|  mooredeborah|    Chelsea Norris|  F|   emily87@yahoo.com|Physiological sci...|1924-12-02|0170 Medina Summi...|      10008| 7e0c4943|\n",
      "+--------------+------------------+---+--------------------+--------------------+----------+--------------------+-----------+---------+\n",
      "\n"
     ]
    },
    {
     "name": "stderr",
     "output_type": "stream",
     "text": [
      "                                                                                \r"
     ]
    }
   ],
   "source": [
    "spark.sql(\"SELECT * FROM newbatch LIMIT 10\").show()"
   ]
  },
  {
   "cell_type": "code",
   "execution_count": 48,
   "id": "35a10605-f946-455a-9791-8a05f186b721",
   "metadata": {},
   "outputs": [
    {
     "name": "stderr",
     "output_type": "stream",
     "text": [
      "                                                                                \r"
     ]
    },
    {
     "data": {
      "text/plain": [
       "DataFrame[]"
      ]
     },
     "execution_count": 48,
     "metadata": {},
     "output_type": "execute_result"
    }
   ],
   "source": [
    "spark.sql(\"INSERT OVERWRITE TABLE default.historical_customers SELECT * FROM newbatch\")"
   ]
  },
  {
   "cell_type": "code",
   "execution_count": null,
   "id": "a92242c4-16d2-4989-92ef-0a04da64c162",
   "metadata": {},
   "outputs": [],
   "source": []
  }
 ],
 "metadata": {
  "kernelspec": {
   "display_name": "Python 3 (ipykernel)",
   "language": "python",
   "name": "python3"
  },
  "language_info": {
   "codemirror_mode": {
    "name": "ipython",
    "version": 3
   },
   "file_extension": ".py",
   "mimetype": "text/x-python",
   "name": "python",
   "nbconvert_exporter": "python",
   "pygments_lexer": "ipython3",
   "version": "3.7.13"
  }
 },
 "nbformat": 4,
 "nbformat_minor": 5
}
