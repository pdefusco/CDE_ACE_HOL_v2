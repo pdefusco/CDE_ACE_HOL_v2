{
 "cells": [
  {
   "cell_type": "code",
   "execution_count": null,
   "id": "5bae2796-7c0e-4734-8017-fc2017a6f354",
   "metadata": {},
   "outputs": [],
   "source": [
    "from pyspark.sql import SparkSession\n",
    "\n",
    "actuallocation = \"/tmp/actual\"\n",
    "location_temp = \"/tmp/temp\"\n",
    "\n",
    "def test_hdfs_ops(df):\n",
    "    sc=df.rdd.context\n",
    "    hadoop = sc._jvm.org.apache.hadoop\n",
    "    hdfs = hadoop.fs.FileSystem.get(sc._jsc.hadoopConfiguration())\n",
    "\n",
    "    print(\"Writing data at : {}\".format(location_temp))\n",
    "    df.write.mode(\"overwrite\").parquet(location_temp)\n",
    "\n",
    "    print(\"Deleting file : {}\".format(actuallocation))\n",
    "    hdfs.delete(hadoop.fs.Path(actuallocation), True)\n",
    "\n",
    "    print(\"Renaming file from : {} to : {}\".format(location_temp, actuallocation))\n",
    "    hdfs.rename(hadoop.fs.Path(location_temp), hadoop.fs.Path(actuallocation))\n",
    "\n",
    "    print(\"Reading file from: {}\".format(actuallocation))\n",
    "    dfNew = spark.read.parquet(actuallocation)\n",
    "    dfNew.show()\n",
    "\n",
    "\n",
    "spark = SparkSession \\\n",
    "    .builder \\\n",
    "    .appName(\"TestApp\") \\\n",
    "    .getOrCreate()\n",
    "\n",
    "\n",
    "df=spark.read.parquet(actuallocation)\n",
    "df.show()\n",
    "print(\"Running ...\")\n",
    "test_hdfs_ops(df)"
   ]
  }
 ],
 "metadata": {
  "kernelspec": {
   "display_name": "Python 3 (ipykernel)",
   "language": "python",
   "name": "python3"
  },
  "language_info": {
   "codemirror_mode": {
    "name": "ipython",
    "version": 3
   },
   "file_extension": ".py",
   "mimetype": "text/x-python",
   "name": "python",
   "nbconvert_exporter": "python",
   "pygments_lexer": "ipython3",
   "version": "3.7.13"
  }
 },
 "nbformat": 4,
 "nbformat_minor": 5
}
