{
 "cells": [
  {
   "cell_type": "code",
   "execution_count": 1,
   "id": "99f30eb1-7732-481b-8666-ad561c022767",
   "metadata": {},
   "outputs": [],
   "source": [
    "#!pip3 install pandas\n",
    "#!pip3 install PyArrow\n",
    "from pyspark.sql.functions import col\n",
    "import os"
   ]
  },
  {
   "cell_type": "code",
   "execution_count": 2,
   "id": "788ca831-d2f8-4126-9282-2a8be6e9845c",
   "metadata": {},
   "outputs": [],
   "source": [
    "#df = pd.read_csv(\"train.gz\")"
   ]
  },
  {
   "cell_type": "code",
   "execution_count": 3,
   "id": "dd78ba56-7cc8-4dc1-91c4-710b6c2b3396",
   "metadata": {},
   "outputs": [],
   "source": [
    "from pyspark.sql import SparkSession\n",
    "from pyspark.sql import functions as F\n",
    "from pyspark.sql.types import TimestampType"
   ]
  },
  {
   "cell_type": "code",
   "execution_count": 4,
   "id": "3aea7c39-5e94-4b61-83bd-c8b1b55a7514",
   "metadata": {},
   "outputs": [],
   "source": [
    "import time\n",
    "import json\n",
    "import requests\n",
    "import xml.etree.ElementTree as ET\n",
    "import datetime\n",
    "import subprocess"
   ]
  },
  {
   "cell_type": "code",
   "execution_count": 5,
   "id": "abac79a2-8d51-429b-939d-f7f16bae4846",
   "metadata": {},
   "outputs": [],
   "source": [
    "if os.path.exists(\"/etc/hadoop/conf/hive-site.xml\"):\n",
    "    tree = ET.parse(\"/etc/hadoop/conf/hive-site.xml\")\n",
    "    root = tree.getroot()\n",
    "    for prop in root.findall(\"property\"):\n",
    "        if prop.find(\"name\").text == \"hive.metastore.warehouse.dir\":\n",
    "            storage = (\n",
    "                prop.find(\"value\").text.split(\"/\")[0]\n",
    "                + \"//\"\n",
    "                + prop.find(\"value\").text.split(\"/\")[2]\n",
    "            )"
   ]
  },
  {
   "cell_type": "code",
   "execution_count": 6,
   "id": "1c7f5442-236f-4f11-a10e-eb708863ea3e",
   "metadata": {},
   "outputs": [],
   "source": [
    "os.environ[\"STORAGE\"] = storage"
   ]
  },
  {
   "cell_type": "code",
   "execution_count": 7,
   "id": "9c9330e9-3c38-4aec-b67a-9fcc3be38ae5",
   "metadata": {},
   "outputs": [
    {
     "name": "stdout",
     "output_type": "stream",
     "text": [
      "s3a://go01-demo\n"
     ]
    }
   ],
   "source": [
    "print(storage)"
   ]
  },
  {
   "cell_type": "code",
   "execution_count": 8,
   "id": "1f86d633-2816-4970-b930-92889d8a7233",
   "metadata": {},
   "outputs": [
    {
     "name": "stderr",
     "output_type": "stream",
     "text": [
      "Setting spark.hadoop.yarn.resourcemanager.principal to pauldefusco\n"
     ]
    }
   ],
   "source": [
    "spark = SparkSession\\\n",
    "    .builder\\\n",
    "    .appName(\"PythonSQL\")\\\n",
    "    .config(\"spark.hadoop.fs.s3a.s3guard.ddb.region\",\"us-east-2\")\\\n",
    "    .config(\"spark.yarn.access.hadoopFileSystems\",os.environ[\"STORAGE\"])\\\n",
    "    .config(\"spark.rpc.message.maxSize\", \"1024\")\\\n",
    "    .config(\"spark.dynamicAllocation.enabled\", \"true\")\\\n",
    "    .getOrCreate()\n",
    " #   .config(\"spark.driver.cores\", 4)\\\n",
    " #   .config(\"spark.driver.memory\", \"8g\")\\"
   ]
  },
  {
   "cell_type": "code",
   "execution_count": 9,
   "id": "c901363a-563e-4b90-ba09-3e71d33e34ef",
   "metadata": {},
   "outputs": [
    {
     "name": "stderr",
     "output_type": "stream",
     "text": [
      "                                                                                \r"
     ]
    }
   ],
   "source": [
    "df = spark.read.parquet(os.environ[\"STORAGE\"]+'/cde-workshop/clickthrough/data_large_from_csv',   \n",
    "    header=True,\n",
    "    sep=',',\n",
    "    nullValue='NA')"
   ]
  },
  {
   "cell_type": "code",
   "execution_count": 9,
   "id": "d5917786-f4a8-4016-96f5-67ec4b2772bc",
   "metadata": {},
   "outputs": [
    {
     "name": "stderr",
     "output_type": "stream",
     "text": [
      "                                                                                \r"
     ]
    },
    {
     "data": {
      "text/plain": [
       "[Row(id='8.557257391414261e+18', click='0', hour='2014-10-24 07:00:00', C1='1005', banner_pos='1', site_id='e151e245', site_domain='7e091613', site_category='f028772b', app_id='ecad2386', app_domain='7801e8d9', app_category='07d7df22', device_id='a99f214a', device_ip='f73cf001', device_model='a0f5f879', device_type='1', device_conn_type='0', C14='4687', C15='320', C16='50', C17='423', C18='2', C19='39', C20='100148', C21='32'),\n",
       " Row(id='3.955540169721846e+18', click='1', hour='2014-10-24 09:00:00', C1='1005', banner_pos='0', site_id='1fbe01fe', site_domain='f3845767', site_category='28905ebd', app_id='ecad2386', app_domain='7801e8d9', app_category='07d7df22', device_id='a99f214a', device_ip='aa92a552', device_model='f07e20f8', device_type='1', device_conn_type='2', C14='20108', C15='320', C16='50', C17='2299', C18='2', C19='1319', C20='100084', C21='52')]"
      ]
     },
     "execution_count": 9,
     "metadata": {},
     "output_type": "execute_result"
    }
   ],
   "source": [
    "df.take(2)"
   ]
  },
  {
   "cell_type": "code",
   "execution_count": 19,
   "id": "a9e9c00c-632e-4544-9865-47e820862609",
   "metadata": {},
   "outputs": [
    {
     "name": "stderr",
     "output_type": "stream",
     "text": [
      "                                                                                \r"
     ]
    },
    {
     "data": {
      "text/plain": [
       "[Row(id='8.557257391414261e+18', click='0', hour='2014-10-24 07:00:00', C1='1005', banner_pos='1', site_id='e151e245', site_domain='7e091613', site_category='f028772b', app_id='ecad2386', app_domain='7801e8d9', app_category='07d7df22', device_id='a99f214a', device_ip='f73cf001', device_model='a0f5f879', device_type='1', device_conn_type='0', C14='4687', C15='320', C16='50', C17='423', C18='2', C19='39', C20='100148', C21='32'),\n",
       " Row(id='3.955540169721846e+18', click='1', hour='2014-10-24 09:00:00', C1='1005', banner_pos='0', site_id='1fbe01fe', site_domain='f3845767', site_category='28905ebd', app_id='ecad2386', app_domain='7801e8d9', app_category='07d7df22', device_id='a99f214a', device_ip='aa92a552', device_model='f07e20f8', device_type='1', device_conn_type='2', C14='20108', C15='320', C16='50', C17='2299', C18='2', C19='1319', C20='100084', C21='52')]"
      ]
     },
     "execution_count": 19,
     "metadata": {},
     "output_type": "execute_result"
    }
   ],
   "source": [
    "df.take(2)"
   ]
  },
  {
   "cell_type": "code",
   "execution_count": 20,
   "id": "789e4ac5-ca66-42ec-8436-d5b26ee7e156",
   "metadata": {},
   "outputs": [
    {
     "data": {
      "text/plain": [
       "25"
      ]
     },
     "execution_count": 20,
     "metadata": {},
     "output_type": "execute_result"
    }
   ],
   "source": [
    "df.rdd.getNumPartitions()"
   ]
  },
  {
   "cell_type": "code",
   "execution_count": 21,
   "id": "6f42e5b9-b300-4780-8dbc-bfc2dbe1bf7d",
   "metadata": {},
   "outputs": [
    {
     "data": {
      "text/plain": [
       "[('id', 'string'),\n",
       " ('click', 'string'),\n",
       " ('hour', 'string'),\n",
       " ('C1', 'string'),\n",
       " ('banner_pos', 'string'),\n",
       " ('site_id', 'string'),\n",
       " ('site_domain', 'string'),\n",
       " ('site_category', 'string'),\n",
       " ('app_id', 'string'),\n",
       " ('app_domain', 'string'),\n",
       " ('app_category', 'string'),\n",
       " ('device_id', 'string'),\n",
       " ('device_ip', 'string'),\n",
       " ('device_model', 'string'),\n",
       " ('device_type', 'string'),\n",
       " ('device_conn_type', 'string'),\n",
       " ('C14', 'string'),\n",
       " ('C15', 'string'),\n",
       " ('C16', 'string'),\n",
       " ('C17', 'string'),\n",
       " ('C18', 'string'),\n",
       " ('C19', 'string'),\n",
       " ('C20', 'string'),\n",
       " ('C21', 'string')]"
      ]
     },
     "execution_count": 21,
     "metadata": {},
     "output_type": "execute_result"
    }
   ],
   "source": [
    "df.dtypes"
   ]
  },
  {
   "cell_type": "code",
   "execution_count": 10,
   "id": "d561edc7-7707-4f6f-a07b-16726c0f3da3",
   "metadata": {},
   "outputs": [],
   "source": [
    "#spark.conf.set(\"spark.sql.legacy.timeParserPolicy\", \"LEGACY\")\n",
    "df = df.withColumn(\"converted_date\",df['hour'].cast(TimestampType()))"
   ]
  },
  {
   "cell_type": "code",
   "execution_count": 11,
   "id": "5a35270a-a96b-498d-a8a7-c5d3f9806590",
   "metadata": {},
   "outputs": [],
   "source": [
    "df = df.withColumn('year',F.year(\"converted_date\"))\\\n",
    "            .withColumn('month', F.month(\"converted_date\"))\\\n",
    "            .withColumn('day', F.dayofmonth(\"converted_date\"))\\\n",
    "            .withColumn('dt_hour', F.hour(\"converted_date\"))"
   ]
  },
  {
   "cell_type": "code",
   "execution_count": 24,
   "id": "2b71a09b-fee6-4f52-918f-109140374ccc",
   "metadata": {},
   "outputs": [
    {
     "data": {
      "text/plain": [
       "[('id', 'string'),\n",
       " ('click', 'string'),\n",
       " ('hour', 'string'),\n",
       " ('C1', 'string'),\n",
       " ('banner_pos', 'string'),\n",
       " ('site_id', 'string'),\n",
       " ('site_domain', 'string'),\n",
       " ('site_category', 'string'),\n",
       " ('app_id', 'string'),\n",
       " ('app_domain', 'string'),\n",
       " ('app_category', 'string'),\n",
       " ('device_id', 'string'),\n",
       " ('device_ip', 'string'),\n",
       " ('device_model', 'string'),\n",
       " ('device_type', 'string'),\n",
       " ('device_conn_type', 'string'),\n",
       " ('C14', 'string'),\n",
       " ('C15', 'string'),\n",
       " ('C16', 'string'),\n",
       " ('C17', 'string'),\n",
       " ('C18', 'string'),\n",
       " ('C19', 'string'),\n",
       " ('C20', 'string'),\n",
       " ('C21', 'string'),\n",
       " ('converted_date', 'timestamp'),\n",
       " ('year', 'int'),\n",
       " ('month', 'int'),\n",
       " ('day', 'int'),\n",
       " ('dt_hour', 'int')]"
      ]
     },
     "execution_count": 24,
     "metadata": {},
     "output_type": "execute_result"
    }
   ],
   "source": [
    "df.dtypes"
   ]
  },
  {
   "cell_type": "code",
   "execution_count": 25,
   "id": "fe1b483e-fd4c-4dea-bd52-89610dceff7b",
   "metadata": {},
   "outputs": [],
   "source": [
    "#df.select(F.min('converted_date')).show()"
   ]
  },
  {
   "cell_type": "code",
   "execution_count": 26,
   "id": "1a8fe088-53bd-4816-a4a0-79f55e17cbc0",
   "metadata": {},
   "outputs": [],
   "source": [
    "#df.select(F.max('converted_date')).show()"
   ]
  },
  {
   "cell_type": "code",
   "execution_count": 12,
   "id": "5f364b3b-5906-4a5e-aba4-a9bbbd8a6246",
   "metadata": {},
   "outputs": [],
   "source": [
    "df_original = df.filter(df.converted_date < '2014-10-26 00:00:00')"
   ]
  },
  {
   "cell_type": "code",
   "execution_count": null,
   "id": "5f044ca4-78cb-4b56-adbe-8affae094696",
   "metadata": {},
   "outputs": [],
   "source": []
  },
  {
   "cell_type": "code",
   "execution_count": 13,
   "id": "18f49c8d-1307-4b1d-9969-57c068f33588",
   "metadata": {},
   "outputs": [],
   "source": [
    "df_batch1 = df.filter((df.converted_date >= '2014-10-26 00:00:00') & (df.converted_date < '2014-10-27 00:00:00'))"
   ]
  },
  {
   "cell_type": "code",
   "execution_count": 14,
   "id": "22f93621-14a2-4817-8650-96d3f4ee002c",
   "metadata": {},
   "outputs": [],
   "source": [
    "df_batch1_noise = df.filter((df.converted_date >= '2014-10-25 00:00:00') & (df.converted_date < '2014-10-26 00:00:00')).sample(0.1)\n",
    "#df_original.sample(fraction=0.25, seed=3)"
   ]
  },
  {
   "cell_type": "code",
   "execution_count": 15,
   "id": "f93ca6f5-f49e-44cc-a50a-6f7c5c0a18bb",
   "metadata": {},
   "outputs": [],
   "source": [
    "df_original_subtract = df_batch1_noise.sample(.4)"
   ]
  },
  {
   "cell_type": "code",
   "execution_count": 16,
   "id": "c005f34c-8b44-4e3a-9458-6296cebc953b",
   "metadata": {},
   "outputs": [],
   "source": [
    "df_original = df_original.subtract(df_original_subtract)"
   ]
  },
  {
   "cell_type": "code",
   "execution_count": 17,
   "id": "15c07da3-51bf-4af6-811c-5be6f488b1cd",
   "metadata": {},
   "outputs": [],
   "source": [
    "df_batch1 = df_batch1.union(df_batch1_noise)"
   ]
  },
  {
   "cell_type": "code",
   "execution_count": null,
   "id": "6368b06a-2dae-45a0-84b1-b0a69e381e79",
   "metadata": {},
   "outputs": [],
   "source": []
  },
  {
   "cell_type": "code",
   "execution_count": 33,
   "id": "bf1338e9-785e-4433-9498-18956150f6a0",
   "metadata": {},
   "outputs": [],
   "source": [
    "df_batch2 = df.filter((df.converted_date >= '2014-10-27 00:00:00') & (df.converted_date < '2014-10-28 00:00:00'))"
   ]
  },
  {
   "cell_type": "code",
   "execution_count": 34,
   "id": "458c1ab1-6d74-4b53-93a2-9b902266267b",
   "metadata": {},
   "outputs": [],
   "source": [
    "df_batch2_noise1 = df_batch1.sample(0.1)"
   ]
  },
  {
   "cell_type": "code",
   "execution_count": 35,
   "id": "de92c00f-becc-4de0-a3fa-77fb1b28d4f4",
   "metadata": {},
   "outputs": [],
   "source": [
    "df_batch1_subtract = df_batch2_noise1.sample(.35)"
   ]
  },
  {
   "cell_type": "code",
   "execution_count": 36,
   "id": "3f94e7eb-abfd-4cfd-a5d9-1816f629aa2a",
   "metadata": {},
   "outputs": [],
   "source": [
    "df_batch1 = df_batch1.subtract(df_batch1_subtract)"
   ]
  },
  {
   "cell_type": "code",
   "execution_count": 37,
   "id": "41f6f0db-8402-451e-a895-7880c7f3662e",
   "metadata": {},
   "outputs": [],
   "source": [
    "df_batch2 = df_batch2.union(df_batch2_noise1)"
   ]
  },
  {
   "cell_type": "code",
   "execution_count": 38,
   "id": "a0f14347-c8a4-48f4-a88e-1b7c9f30dcbf",
   "metadata": {},
   "outputs": [],
   "source": [
    "#df_batch1.count()"
   ]
  },
  {
   "cell_type": "code",
   "execution_count": null,
   "id": "b60eecb9-2808-4006-8d36-7a9d628b28af",
   "metadata": {},
   "outputs": [],
   "source": []
  },
  {
   "cell_type": "code",
   "execution_count": 39,
   "id": "4f1c37b7-6530-4150-9a58-c8b9aeb66e86",
   "metadata": {},
   "outputs": [],
   "source": [
    "df_batch3 = df.filter((df.converted_date >= '2014-10-28 00:00:00') & (df.converted_date < '2014-10-29 00:00:00'))"
   ]
  },
  {
   "cell_type": "code",
   "execution_count": 40,
   "id": "7bf839ab-b73f-4406-8d27-b9eb2630fcdf",
   "metadata": {},
   "outputs": [],
   "source": [
    "df_batch3_noise1 = df_batch2.sample(0.09)"
   ]
  },
  {
   "cell_type": "code",
   "execution_count": 41,
   "id": "7c958c3f-4434-4f07-9d1e-02e2a63f6a4e",
   "metadata": {},
   "outputs": [],
   "source": [
    "df_batch2_subtract = df_batch3_noise1.sample(.45)"
   ]
  },
  {
   "cell_type": "code",
   "execution_count": 42,
   "id": "00c7ebe5-758f-40b7-a3bc-8b8c6134dd84",
   "metadata": {},
   "outputs": [],
   "source": [
    "df_batch2 = df_batch2.subtract(df_batch2_subtract)"
   ]
  },
  {
   "cell_type": "code",
   "execution_count": 43,
   "id": "788ebd62-4ea3-4789-8d94-feb077c6cef2",
   "metadata": {},
   "outputs": [],
   "source": [
    "df_batch3 = df_batch3.union(df_batch3_noise1)"
   ]
  },
  {
   "cell_type": "code",
   "execution_count": 44,
   "id": "2a92a516-2aa7-4718-93d1-2f702a05ea10",
   "metadata": {},
   "outputs": [],
   "source": [
    "#df_batch2.count()"
   ]
  },
  {
   "cell_type": "code",
   "execution_count": null,
   "id": "3f4c73d3-edcf-440f-9e80-7723901ee684",
   "metadata": {},
   "outputs": [],
   "source": []
  },
  {
   "cell_type": "code",
   "execution_count": 45,
   "id": "13399016-754e-4c93-b8e6-256058974b49",
   "metadata": {},
   "outputs": [],
   "source": [
    "df_batch4 = df.filter((df.converted_date >= '2014-10-29 00:00:00') & (df.converted_date <= '2014-10-30 00:00:00'))"
   ]
  },
  {
   "cell_type": "code",
   "execution_count": 46,
   "id": "bd483017-a259-43c1-af30-208f0b2264e2",
   "metadata": {},
   "outputs": [],
   "source": [
    "df_batch4_noise1 = df_batch3.sample(0.31)"
   ]
  },
  {
   "cell_type": "code",
   "execution_count": 47,
   "id": "f3a25bd5-9597-42d8-bf0a-976ae7bc24fd",
   "metadata": {},
   "outputs": [],
   "source": [
    "df_batch3_subtract = df_batch4_noise1.sample(.20)"
   ]
  },
  {
   "cell_type": "code",
   "execution_count": 48,
   "id": "ca877fee-4afe-48c3-b643-30ac862789b7",
   "metadata": {},
   "outputs": [],
   "source": [
    "df_batch3 = df_batch3.subtract(df_batch3_subtract)"
   ]
  },
  {
   "cell_type": "code",
   "execution_count": 49,
   "id": "09aba5b8-fc1f-4621-af01-661afab179e0",
   "metadata": {},
   "outputs": [],
   "source": [
    "df_batch4 = df_batch4.union(df_batch4_noise1)"
   ]
  },
  {
   "cell_type": "code",
   "execution_count": 50,
   "id": "ebc7e6f6-fb56-48da-99e5-673d75ee35a2",
   "metadata": {},
   "outputs": [],
   "source": [
    "#df.select(F.max('converted_date')).show()"
   ]
  },
  {
   "cell_type": "code",
   "execution_count": 51,
   "id": "80ef744d-9575-49f0-bd75-9ec5523b60f1",
   "metadata": {},
   "outputs": [],
   "source": [
    "#df.select(F.min('converted_date')).show()"
   ]
  },
  {
   "cell_type": "code",
   "execution_count": 52,
   "id": "43ae6691-9fcf-431c-958e-b40f6a9b1f10",
   "metadata": {},
   "outputs": [],
   "source": [
    "drop_cols = ['converted_date','year', 'month','day', 'dt_hour']"
   ]
  },
  {
   "cell_type": "code",
   "execution_count": 53,
   "id": "f39e34ea-7dd0-4885-8ec7-bfa612efb80d",
   "metadata": {},
   "outputs": [],
   "source": [
    "df_original = df_original.drop(*drop_cols)\n",
    "df_batch1 = df_batch1.drop(*drop_cols)\n",
    "df_batch2 = df_batch2.drop(*drop_cols)\n",
    "df_batch3 = df_batch3.drop(*drop_cols)\n",
    "df_batch4 = df_batch4.drop(*drop_cols)"
   ]
  },
  {
   "cell_type": "code",
   "execution_count": 45,
   "id": "cc95a992-5cb3-4893-9e08-0bc0426b632c",
   "metadata": {},
   "outputs": [
    {
     "name": "stderr",
     "output_type": "stream",
     "text": [
      "22/10/24 22:22:02 012 ERROR TransportResponseHandler: Still have 1 requests outstanding when connection from /100.100.164.117:42756 is closed\n",
      "[Stage 27:=(52 + -2) / 50][Stage 44:>(10 + 2) / 100][Stage 44:>  (0 + 1) / 93]  \r"
     ]
    }
   ],
   "source": [
    "df_batch1\\\n",
    "    .write.mode(\"overwrite\").option(\"header\",\"true\")\\\n",
    "    .csv(\"s3a://go01-demo/cde-workshop/clickthrough/csv_batch_01\")"
   ]
  },
  {
   "cell_type": "code",
   "execution_count": 46,
   "id": "0bdfa946-6b76-4b2d-bbad-6bbdb11f2532",
   "metadata": {},
   "outputs": [
    {
     "name": "stderr",
     "output_type": "stream",
     "text": [
      "22/10/24 22:23:18 564 ERROR TransportResponseHandler: Still have 1 requests outstanding when connection from /100.100.164.125:49090 is closed\n",
      "22/10/24 22:26:32 361 ERROR TransportResponseHandler: Still have 1 requests outstanding when connection from /100.100.164.114:46046 is closed\n",
      "22/10/24 22:31:54 352 ERROR TransportResponseHandler: Still have 1 requests outstanding when connection from /100.100.210.160:39856 is closed\n",
      "22/10/24 22:38:56 786 ERROR TransportResponseHandler: Still have 2 requests outstanding when connection from /100.100.164.66:34964 is closed\n",
      "22/10/24 22:38:56 979 ERROR TransportResponseHandler: Still have 1 requests outstanding when connection from /100.100.137.114:49552 is closed\n",
      "22/10/24 22:49:09 651 ERROR TransportResponseHandler: Still have 1 requests outstanding when connection from /100.100.210.151:47282 is closed\n",
      "22/10/24 22:50:55 288 ERROR TransportResponseHandler: Still have 1 requests outstanding when connection from /100.100.164.80:36326 is closed\n",
      "22/10/24 22:50:56 774 ERROR TransportResponseHandler: Still have 1 requests outstanding when connection from /100.100.137.103:41652 is closed\n",
      "22/10/24 22:58:55 943 ERROR TransportResponseHandler: Still have 1 requests outstanding when connection from /100.100.73.179:36848 is closed\n",
      "22/10/24 23:00:34 016 ERROR TransportResponseHandler: Still have 1 requests outstanding when connection from /100.100.159.217:48080 is closed\n",
      "22/10/24 23:00:46 731 ERROR TransportResponseHandler: Still have 1 requests outstanding when connection from /100.100.159.222:40172 is closed\n",
      "22/10/24 23:07:16 513 ERROR TransportResponseHandler: Still have 1 requests outstanding when connection from /100.100.159.226:41918 is closed\n",
      "22/10/24 23:07:55 848 ERROR TransportResponseHandler: Still have 1 requests outstanding when connection from /100.100.164.83:51642 is closed\n",
      "22/10/24 23:09:54 856 ERROR TransportResponseHandler: Still have 1 requests outstanding when connection from /100.100.159.220:47040 is closed\n",
      "[Stage 27:=(52 + -2) / 50][Stage 51:(154 + -4) / 150][Stage 54:==(10 + -2) / 8] \r"
     ]
    }
   ],
   "source": [
    "df_batch2\\\n",
    "    .write.mode(\"overwrite\").option(\"header\",\"true\")\\\n",
    "    .csv(\"s3a://go01-demo/cde-workshop/clickthrough/csv_batch_02\")"
   ]
  },
  {
   "cell_type": "code",
   "execution_count": 54,
   "id": "d438595d-693c-4bc5-b970-10c72849f969",
   "metadata": {},
   "outputs": [
    {
     "name": "stderr",
     "output_type": "stream",
     "text": [
      "[Stage 24:====================================================>   (47 + 1) / 50]\r"
     ]
    }
   ],
   "source": [
    "df_batch3\\\n",
    "    .write.mode(\"overwrite\").option(\"header\",\"true\")\\\n",
    "    .csv(\"s3a://go01-demo/cde-workshop/clickthrough/csv_batch_03\")"
   ]
  },
  {
   "cell_type": "code",
   "execution_count": 55,
   "id": "9583d077-fc40-47a7-b15c-ca8a98951e8a",
   "metadata": {},
   "outputs": [
    {
     "name": "stderr",
     "output_type": "stream",
     "text": [
      "                                                                                \r"
     ]
    }
   ],
   "source": [
    "df_batch4\\\n",
    "    .write.mode(\"overwrite\").option(\"header\",\"true\")\\\n",
    "    .csv(\"s3a://go01-demo/cde-workshop/clickthrough/csv_batch_04\")"
   ]
  },
  {
   "cell_type": "code",
   "execution_count": 19,
   "id": "11174ec7-e1fc-46ae-a987-8592b15c9f7f",
   "metadata": {},
   "outputs": [],
   "source": [
    "drop_cols = [\"converted_date\", \"year\", \"month\", \"day\", \"dt_hour\"]"
   ]
  },
  {
   "cell_type": "code",
   "execution_count": 20,
   "id": "7713cfa0-d907-4fc3-a7f2-bd57c1d585ba",
   "metadata": {},
   "outputs": [],
   "source": [
    "df_original = df_original.drop(*drop_cols)"
   ]
  },
  {
   "cell_type": "code",
   "execution_count": 21,
   "id": "96b2be0f-36e1-455d-a6f4-efb832c4d53c",
   "metadata": {},
   "outputs": [
    {
     "data": {
      "text/plain": [
       "[('id', 'string'),\n",
       " ('click', 'string'),\n",
       " ('hour', 'string'),\n",
       " ('C1', 'string'),\n",
       " ('banner_pos', 'string'),\n",
       " ('site_id', 'string'),\n",
       " ('site_domain', 'string'),\n",
       " ('site_category', 'string'),\n",
       " ('app_id', 'string'),\n",
       " ('app_domain', 'string'),\n",
       " ('app_category', 'string'),\n",
       " ('device_id', 'string'),\n",
       " ('device_ip', 'string'),\n",
       " ('device_model', 'string'),\n",
       " ('device_type', 'string'),\n",
       " ('device_conn_type', 'string'),\n",
       " ('C14', 'string'),\n",
       " ('C15', 'string'),\n",
       " ('C16', 'string'),\n",
       " ('C17', 'string'),\n",
       " ('C18', 'string'),\n",
       " ('C19', 'string'),\n",
       " ('C20', 'string'),\n",
       " ('C21', 'string')]"
      ]
     },
     "execution_count": 21,
     "metadata": {},
     "output_type": "execute_result"
    }
   ],
   "source": [
    "df_original.dtypes"
   ]
  },
  {
   "cell_type": "code",
   "execution_count": 22,
   "id": "cd331f4f-ab58-4a8f-b27a-3421b384e6d3",
   "metadata": {},
   "outputs": [
    {
     "name": "stderr",
     "output_type": "stream",
     "text": [
      "[Stage 18:===================================================>    (37 + 1) / 40]\r"
     ]
    }
   ],
   "source": [
    "df_original.write.mode(\"overwrite\").option(\"header\",\"true\").parquet(\"s3a://go01-demo/cde-workshop/clickthrough/historical\")"
   ]
  },
  {
   "cell_type": "code",
   "execution_count": null,
   "id": "b584900b-44c1-4fa3-a6b3-142b7be8051d",
   "metadata": {},
   "outputs": [],
   "source": []
  },
  {
   "cell_type": "code",
   "execution_count": null,
   "id": "8befe66b-412e-4f5d-8d8f-f6b801d0bfbf",
   "metadata": {},
   "outputs": [],
   "source": []
  },
  {
   "cell_type": "code",
   "execution_count": null,
   "id": "8ceca8c8-c23e-4ac9-96c0-8df3185f923a",
   "metadata": {},
   "outputs": [],
   "source": [
    "#sparkDF.write\\\n",
    "# .option(\"header\",\"true\")\\\n",
    "# .parquet(\"s3a://go01-demo/cde-workshop/clickthrough\")"
   ]
  }
 ],
 "metadata": {
  "kernelspec": {
   "display_name": "Python 3 (ipykernel)",
   "language": "python",
   "name": "python3"
  },
  "language_info": {
   "codemirror_mode": {
    "name": "ipython",
    "version": 3
   },
   "file_extension": ".py",
   "mimetype": "text/x-python",
   "name": "python",
   "nbconvert_exporter": "python",
   "pygments_lexer": "ipython3",
   "version": "3.7.13"
  }
 },
 "nbformat": 4,
 "nbformat_minor": 5
}
